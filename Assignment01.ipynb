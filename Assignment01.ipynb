{
  "nbformat": 4,
  "nbformat_minor": 0,
  "metadata": {
    "colab": {
      "name": "Assignment01.ipynb",
      "provenance": [],
      "collapsed_sections": []
    },
    "kernelspec": {
      "name": "python3",
      "display_name": "Python 3"
    },
    "language_info": {
      "name": "python"
    }
  },
  "cells": [
    {
      "cell_type": "code",
      "metadata": {
        "colab": {
          "base_uri": "https://localhost:8080/"
        },
        "id": "wFumbDFuPkv9",
        "outputId": "c6a7b243-46d3-4f51-c4af-176b43bec409"
      },
      "source": [
        "import tensorflow as tf\n",
        "\n",
        "rand=tf.random.uniform([4,3],0,1)\n",
        "print(rand)"
      ],
      "execution_count": null,
      "outputs": [
        {
          "output_type": "stream",
          "name": "stdout",
          "text": [
            "tf.Tensor(\n",
            "[[0.7407645  0.386446   0.9725679 ]\n",
            " [0.8470118  0.866524   0.746431  ]\n",
            " [0.5471659  0.81451464 0.7237822 ]\n",
            " [0.71127224 0.13249099 0.4469955 ]], shape=(4, 3), dtype=float32)\n"
          ]
        }
      ]
    },
    {
      "cell_type": "code",
      "metadata": {
        "colab": {
          "base_uri": "https://localhost:8080/"
        },
        "id": "TTK7e5wLQ_8Z",
        "outputId": "08110fbf-e35d-4beb-8c2e-540c21ace7c1"
      },
      "source": [
        "import tensorflow as tf\n",
        "\n",
        "rand=tf.random.uniform([2,2,3],0,1)\n",
        "print(rand)"
      ],
      "execution_count": null,
      "outputs": [
        {
          "output_type": "stream",
          "name": "stdout",
          "text": [
            "tf.Tensor(\n",
            "[[[0.5742148  0.3647132  0.2626071 ]\n",
            "  [0.63359714 0.16300964 0.95818603]]\n",
            "\n",
            " [[0.20029044 0.85689914 0.54721904]\n",
            "  [0.81595683 0.02092803 0.790167  ]]], shape=(2, 2, 3), dtype=float32)\n"
          ]
        }
      ]
    },
    {
      "cell_type": "code",
      "metadata": {
        "colab": {
          "base_uri": "https://localhost:8080/"
        },
        "id": "Mg632KISDSKg",
        "outputId": "02edb818-adbd-4132-bafd-4fec34adf295"
      },
      "source": [
        "import tensorflow as tf\n",
        "import math\n",
        "\n",
        "def sigmoid(x):\n",
        "  return 1 / (1 + math.exp(-x))\n",
        "\n",
        "x=0\n",
        "y=1\n",
        "w=tf.random.normal([1],0,1)\n",
        "b=tf.random.normal([1],0,1)\n",
        "\n",
        "for i in range(1000):\n",
        "  output = sigmoid(x*w + 1*b)\n",
        "  error = y- output\n",
        "  w = w + x*0.5*error\n",
        "  b = b + 1*0.5*error\n",
        "\n",
        "  if i%100 == 99:\n",
        "    print(i,error,output)"
      ],
      "execution_count": null,
      "outputs": [
        {
          "output_type": "stream",
          "name": "stdout",
          "text": [
            "99 0.01975135486242996 0.98024864513757\n",
            "199 0.009989137800636705 0.9900108621993633\n",
            "299 0.006675431915745933 0.9933245680842541\n",
            "399 0.005010358004546855 0.9949896419954531\n",
            "499 0.00400932394594411 0.9959906760540559\n",
            "599 0.0033413423414268006 0.9966586576585732\n",
            "699 0.0028639785326532996 0.9971360214673467\n",
            "799 0.0025058589525169817 0.997494141047483\n",
            "899 0.0022272905312992197 0.9977727094687008\n",
            "999 0.002004422307218756 0.9979955776927812\n"
          ]
        }
      ]
    },
    {
      "cell_type": "code",
      "metadata": {
        "colab": {
          "base_uri": "https://localhost:8080/"
        },
        "id": "Vkp7LWxDDfm9",
        "outputId": "390489c5-4313-4647-bb46-3f00c507816b"
      },
      "source": [
        "import tensorflow as tf\n",
        "import math\n",
        "\n",
        "def tanh(x):\n",
        "  return (math.exp(x) - math.exp(-x)) / (math.exp(x) + math.exp(-x))\n",
        "\n",
        "x=0\n",
        "y=1\n",
        "w=tf.random.normal([1],0,1)\n",
        "b=tf.random.normal([1],0,1)\n",
        "\n",
        "for i in range(1000):\n",
        "  output = tanh(x*w + 1*b)\n",
        "  error = y- output\n",
        "  w = w + x*0.1*error\n",
        "  b = b + 1*0.1*error\n",
        "\n",
        "  if i%100 == 99:\n",
        "    print(i,error,output)"
      ],
      "execution_count": null,
      "outputs": [
        {
          "output_type": "stream",
          "name": "stdout",
          "text": [
            "99 0.048918183605086485 0.9510818163949135\n",
            "199 0.024896540240925025 0.975103459759075\n",
            "299 0.01666568465103413 0.9833343153489659\n",
            "399 0.012517548403211842 0.9874824515967882\n",
            "499 0.010020235835331182 0.9899797641646688\n",
            "599 0.0083524817471744 0.9916475182528256\n",
            "699 0.007160105038552134 0.9928398949614479\n",
            "799 0.0062653012016732346 0.9937346987983268\n",
            "899 0.0055691011587258865 0.9944308988412741\n",
            "999 0.005012023038765023 0.994987976961235\n"
          ]
        }
      ]
    },
    {
      "cell_type": "code",
      "metadata": {
        "colab": {
          "base_uri": "https://localhost:8080/"
        },
        "id": "0kdjtNvbTVk0",
        "outputId": "ce1bfb01-fdb7-4607-8e80-adea3f08db1d"
      },
      "source": [
        "import tensorflow as tf\n",
        "import math\n",
        "\n",
        "def ReLU(x):\n",
        "  return max(0,x)\n",
        "\n",
        "x=0\n",
        "y=1\n",
        "w=tf.random.normal([1],0,1)\n",
        "b=tf.random.normal([1],0,1)\n",
        "\n",
        "for i in range(1000):\n",
        "  output = ReLU(x*w + 1*b)\n",
        "  error = y- output\n",
        "  w = w + x*0.1*error\n",
        "  b = b + 1*0.1*error\n",
        "\n",
        "  if i%100 == 99:\n",
        "    print(i,error,output)"
      ],
      "execution_count": null,
      "outputs": [
        {
          "output_type": "stream",
          "name": "stdout",
          "text": [
            "99 tf.Tensor([1.9073486e-05], shape=(1,), dtype=float32) tf.Tensor([0.9999809], shape=(1,), dtype=float32)\n",
            "199 tf.Tensor([2.3841858e-07], shape=(1,), dtype=float32) tf.Tensor([0.99999976], shape=(1,), dtype=float32)\n",
            "299 tf.Tensor([2.3841858e-07], shape=(1,), dtype=float32) tf.Tensor([0.99999976], shape=(1,), dtype=float32)\n",
            "399 tf.Tensor([2.3841858e-07], shape=(1,), dtype=float32) tf.Tensor([0.99999976], shape=(1,), dtype=float32)\n",
            "499 tf.Tensor([2.3841858e-07], shape=(1,), dtype=float32) tf.Tensor([0.99999976], shape=(1,), dtype=float32)\n",
            "599 tf.Tensor([2.3841858e-07], shape=(1,), dtype=float32) tf.Tensor([0.99999976], shape=(1,), dtype=float32)\n",
            "699 tf.Tensor([2.3841858e-07], shape=(1,), dtype=float32) tf.Tensor([0.99999976], shape=(1,), dtype=float32)\n",
            "799 tf.Tensor([2.3841858e-07], shape=(1,), dtype=float32) tf.Tensor([0.99999976], shape=(1,), dtype=float32)\n",
            "899 tf.Tensor([2.3841858e-07], shape=(1,), dtype=float32) tf.Tensor([0.99999976], shape=(1,), dtype=float32)\n",
            "999 tf.Tensor([2.3841858e-07], shape=(1,), dtype=float32) tf.Tensor([0.99999976], shape=(1,), dtype=float32)\n"
          ]
        }
      ]
    },
    {
      "cell_type": "code",
      "metadata": {
        "id": "wegfp7l2FyL-"
      },
      "source": [
        "import numpy as np\n",
        "import tensorflow as tf\n",
        "\n",
        "x = np.array([[1,1,1], [1,1,0], [1,0,1], [1,0,0], [0,1,1], [0,1,0], [0,0,1], [0,0,0]])\n",
        "y = np.array([[1], [0], [1], [0], [1], [0], [1], [0]])\n",
        "\n",
        "model = tf.keras.Sequential([\n",
        "    tf.keras.layers.Dense(units=4, activation='sigmoid', input_shape=(3,)),\n",
        "    tf.keras.layers.Dense(units=4, activation='sigmoid'),\n",
        "    tf.keras.layers.Dense(units=1, activation='sigmoid')\n",
        "])\n",
        "\n",
        "model.compile(optimizer=tf.keras.optimizers.SGD(learning_rate=0.1), loss='mse')\n",
        "\n",
        "model.summary()\n",
        "\n",
        "history = model.fit(x, y, epochs=400, batch_size=1)"
      ],
      "execution_count": null,
      "outputs": []
    },
    {
      "cell_type": "code",
      "metadata": {
        "colab": {
          "base_uri": "https://localhost:8080/"
        },
        "id": "-Fc7proukSdj",
        "outputId": "d08531e6-2d75-4f87-8157-3eff4ab3cc5f"
      },
      "source": [
        "model.predict(x)"
      ],
      "execution_count": null,
      "outputs": [
        {
          "output_type": "execute_result",
          "data": {
            "text/plain": [
              "array([[0.9251568 ],\n",
              "       [0.03986546],\n",
              "       [0.9343642 ],\n",
              "       [0.05136651],\n",
              "       [0.93703365],\n",
              "       [0.05514678],\n",
              "       [0.9436902 ],\n",
              "       [0.07407311]], dtype=float32)"
            ]
          },
          "metadata": {},
          "execution_count": 68
        }
      ]
    },
    {
      "cell_type": "code",
      "metadata": {
        "colab": {
          "base_uri": "https://localhost:8080/",
          "height": 265
        },
        "id": "WHFdFeX4XfCZ",
        "outputId": "e6c19f7c-0053-4798-9bfe-265dda4f7cbc"
      },
      "source": [
        "import matplotlib.pyplot as plt\n",
        "x = [1,2,3,4,5,6,7,8,9,10]\n",
        "y = [8,1,3,6,4,2,3,5,6,1]\n",
        "plt.plot(x,y,'b--')\n",
        "plt.show()"
      ],
      "execution_count": null,
      "outputs": [
        {
          "output_type": "display_data",
          "data": {
            "image/png": "[encoded data removed]",
            "text/plain": [
              "<Figure size 432x288 with 1 Axes>"
            ]
          },
          "metadata": {
            "needs_background": "light"
          }
        }
      ]
    },
    {
      "cell_type": "code",
      "metadata": {
        "colab": {
          "base_uri": "https://localhost:8080/",
          "height": 265
        },
        "id": "9EmySP8mZ0bI",
        "outputId": "294fec06-2150-422f-9bf4-3fcd080699c9"
      },
      "source": [
        "import matplotlib.pyplot as plt\n",
        "x = range(0,40,2)\n",
        "y = tf.random.normal([20],0,1)\n",
        "plt.plot(x,y,'ro')\n",
        "plt.show()"
      ],
      "execution_count": null,
      "outputs": [
        {
          "output_type": "display_data",
          "data": {
            "image/png": "[encoded data removed]",
            "text/plain": [
              "<Figure size 432x288 with 1 Axes>"
            ]
          },
          "metadata": {
            "needs_background": "light"
          }
        }
      ]
    },
    {
      "cell_type": "code",
      "metadata": {
        "colab": {
          "base_uri": "https://localhost:8080/"
        },
        "id": "HDV2SyS5eQlQ",
        "outputId": "dcd36b28-c325-45eb-c482-6cb2d882a839"
      },
      "source": [
        "import numpy as np\n",
        "import math\n",
        "\n",
        "A = np.array([[14, 12, 23],\n",
        "              [7, 5, 16]])\n",
        "\n",
        "B = np.array([[1,9,10,2],\n",
        "              [6,1,17,20],\n",
        "              [9,15,11,3]])\n",
        "\n",
        "C = np.zeros((2,4), int)\n",
        "\n",
        "for i in range(2):\n",
        "  for j in range(4):\n",
        "    for k in range(3):\n",
        "      C[i][j] += np.sum(A[i][k]*B[k][j])\n",
        "\n",
        "print(C)"
      ],
      "execution_count": null,
      "outputs": [
        {
          "output_type": "stream",
          "name": "stdout",
          "text": [
            "[[293 483 597 337]\n",
            " [181 308 331 162]]\n"
          ]
        }
      ]
    }
  ]
}