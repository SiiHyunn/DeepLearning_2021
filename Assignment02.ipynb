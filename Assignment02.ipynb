{
  "nbformat": 4,
  "nbformat_minor": 0,
  "metadata": {
    "colab": {
      "name": "Assignment02.ipynb",
      "provenance": [],
      "collapsed_sections": [],
      "authorship_tag": "ABX9TyNiowA/OAr1GiKT4JtInUL4",
      "include_colab_link": true
    },
    "kernelspec": {
      "name": "python3",
      "display_name": "Python 3"
    },
    "language_info": {
      "name": "python"
    }
  },
  "cells": [
    {
      "cell_type": "markdown",
      "metadata": {
        "id": "view-in-github",
        "colab_type": "text"
      },
      "source": [
        "<a href=\"https://colab.research.google.com/github/SiiHyunn/DipLearning_2021/blob/main/Assignment02.ipynb\" target=\"_parent\"><img src=\"https://colab.research.google.com/assets/colab-badge.svg\" alt=\"Open In Colab\"/></a>"
      ]
    },
    {
      "cell_type": "code",
      "metadata": {
        "colab": {
          "base_uri": "https://localhost:8080/",
          "height": 511
        },
        "id": "wA5IczSeTsIP",
        "outputId": "ffedf574-1ba9-4304-f1d3-9f83fe98c2c3"
      },
      "source": [
        "import tensorflow as tf\n",
        "import numpy as np\n",
        "import matplotlib.pyplot as plt\n",
        "import random\n",
        "X = [-2.4, -2.0, -1.75, -1.5, -1.25, -1.0, -0.75, -0.5, -0.25, 0, 0.25, 0.5, 0.75, 1.0, 1.25, 1.5, 1.75, 2.0, 2.25, 2.5]\n",
        "Y = [12.27, 12.44, 12.87, 13.75, 14.0, 14.5, 15.52, 16.37, 16.78, 16.51, 15.65, 14.74, 14.72, 15.0, 16.94, 17.83, 17.91, 18.14, 18.42, 18.5]\n",
        "\n",
        "a = tf.Variable(random.random())\n",
        "b = tf.Variable(random.random())\n",
        "c = tf.Variable(random.random())\n",
        "\n",
        "def compute_loss():\n",
        "    y_pred = a * X*X + b * X + c\n",
        "    loss = tf.reduce_mean((Y - y_pred) ** 2)\n",
        "    return loss\n",
        "\n",
        "optimizer = tf.keras.optimizers.Adam(lr=0.07)\n",
        "print('X =', X)\n",
        "print('Y =', Y)\n",
        "for i in range(1000):\n",
        "    optimizer.minimize(compute_loss, var_list=[a,b,c])\n",
        "    \n",
        "    if i % 100 == 99:\n",
        "        print(i, 'a:', a.numpy(), 'b:', b.numpy(), 'c:', c.numpy(), 'loss:', compute_loss().numpy())\n",
        "\n",
        "line_x = np.arange(min(X), max(X), 0.01)\n",
        "line_y = a * line_x * line_x + b * line_x + c\n",
        "\n",
        "plt.plot(line_x,line_y,'r-')\n",
        "plt.plot(X,Y,'bo')\n",
        "plt.show()"
      ],
      "execution_count": null,
      "outputs": [
        {
          "output_type": "stream",
          "name": "stderr",
          "text": [
            "/usr/local/lib/python3.7/dist-packages/keras/optimizer_v2/optimizer_v2.py:356: UserWarning: The `lr` argument is deprecated, use `learning_rate` instead.\n",
            "  \"The `lr` argument is deprecated, use `learning_rate` instead.\")\n"
          ]
        },
        {
          "output_type": "stream",
          "name": "stdout",
          "text": [
            "X = [-2.4, -2.0, -1.75, -1.5, -1.25, -1.0, -0.75, -0.5, -0.25, 0, 0.25, 0.5, 0.75, 1.0, 1.25, 1.5, 1.75, 2.0, 2.25, 2.5]\n",
            "Y = [12.27, 12.44, 12.87, 13.75, 14.0, 14.5, 15.52, 16.37, 16.78, 16.51, 15.65, 14.74, 14.72, 15.0, 16.94, 17.83, 17.91, 18.14, 18.42, 18.5]\n",
            "99 a: 2.6347597 b: 0.8964893 c: 6.0061545 loss: 43.031776\n",
            "199 a: 1.5554092 b: 1.019341 c: 9.777152 loss: 16.314268\n",
            "299 a: 0.7965358 b: 1.1047269 c: 12.526622 loss: 5.1112194\n",
            "399 a: 0.33991608 b: 1.1557043 c: 14.186748 loss: 1.6916592\n",
            "499 a: 0.10606163 b: 1.1817639 c: 15.037653 loss: 0.91447526\n",
            "599 a: 0.003590844 b: 1.1931789 c: 15.410559 loss: 0.7822069\n",
            "699 a: -0.03496952 b: 1.1974742 c: 15.550888 loss: 0.7653093\n",
            "799 a: -0.047446348 b: 1.1988641 c: 15.596294 loss: 0.7636914\n",
            "899 a: -0.050911784 b: 1.1992497 c: 15.608909 loss: 0.76357615\n",
            "999 a: -0.05173321 b: 1.1993413 c: 15.6118965 loss: 0.76357\n"
          ]
        },
        {
          "output_type": "display_data",
          "data": {
            "image/png": "[encoded data removed]",
            "text/plain": [
              "<Figure size 432x288 with 1 Axes>"
            ]
          },
          "metadata": {
            "needs_background": "light"
          }
        }
      ]
    },
    {
      "cell_type": "code",
      "metadata": {
        "colab": {
          "base_uri": "https://localhost:8080/",
          "height": 476
        },
        "id": "H0vphz2UmKLF",
        "outputId": "8bb8dc8e-04c0-4606-c6b7-5ed22c0fa652"
      },
      "source": [
        "import tensorflow as tf\n",
        "import numpy as np\n",
        "import matplotlib.pyplot as plt\n",
        "import random\n",
        "X = [-2.4, -2.0, -1.75, -1.5, -1.25, -1.0, -0.75, -0.5, -0.25, 0, 0.25, 0.5, 0.75, 1.0, 1.25, 1.5, 1.75, 2.0, 2.25, 2.5]\n",
        "Y = [12.27, 12.44, 12.87, 13.75, 14.0, 14.5, 15.52, 16.37, 16.78, 16.51, 15.65, 14.74, 14.72, 15.0, 16.94, 17.83, 17.91, 18.14, 18.42, 18.5]\n",
        "\n",
        "a = tf.Variable(random.random())\n",
        "b = tf.Variable(random.random())\n",
        "c = tf.Variable(random.random())\n",
        "d = tf.Variable(random.random())\n",
        "\n",
        "def compute_loss():\n",
        "    y_pred = a * X*X*X + b * X*X + c * X + d\n",
        "    loss = tf.reduce_mean((Y - y_pred) ** 2)\n",
        "    return loss\n",
        "\n",
        "optimizer = tf.keras.optimizers.Adam(lr=0.07)\n",
        "for i in range(1000):\n",
        "    optimizer.minimize(compute_loss, var_list=[a,b,c,d])\n",
        "    \n",
        "    if i % 100 == 99:\n",
        "        print(i, 'a:', a.numpy(), 'b:', b.numpy(), 'c:', c.numpy(), 'd:', d.numpy(), 'loss:', compute_loss().numpy())\n",
        "\n",
        "line_x = np.arange(min(X), max(X), 0.01)\n",
        "line_y = a * line_x * line_x * line_x + b * line_x * line_x + c * line_x + d\n",
        "\n",
        "plt.plot(line_x,line_y,'r-')\n",
        "plt.plot(X,Y,'bo')\n",
        "plt.show()"
      ],
      "execution_count": null,
      "outputs": [
        {
          "output_type": "stream",
          "name": "stderr",
          "text": [
            "/usr/local/lib/python3.7/dist-packages/keras/optimizer_v2/optimizer_v2.py:356: UserWarning: The `lr` argument is deprecated, use `learning_rate` instead.\n",
            "  \"The `lr` argument is deprecated, use `learning_rate` instead.\")\n"
          ]
        },
        {
          "output_type": "stream",
          "name": "stdout",
          "text": [
            "99 a: -0.07996218 b: 2.7406464 c: 1.195839 d: 5.78109 loss: 45.176704\n",
            "199 a: 0.01775695 b: 1.6828166 c: 0.9406899 d: 9.348217 loss: 18.69852\n",
            "299 a: 0.07764171 b: 0.9071854 c: 0.79354346 d: 12.106144 loss: 6.3296094\n",
            "399 a: 0.11561597 b: 0.40971333 c: 0.70052224 d: 13.883069 loss: 2.033527\n",
            "499 a: 0.13661781 b: 0.13395582 c: 0.649094 d: 14.869148 loss: 0.8899814\n",
            "599 a: 0.14673355 b: 0.0010688202 c: 0.6243251 d: 15.344454 loss: 0.6549512\n",
            "699 a: 0.15098704 b: -0.054812327 c: 0.6139107 d: 15.544335 loss: 0.6175413\n",
            "799 a: 0.15255046 b: -0.075353436 c: 0.61008215 d: 15.617808 loss: 0.6129318\n",
            "899 a: 0.15305239 b: -0.08194758 c: 0.6088531 d: 15.641397 loss: 0.6124936\n",
            "999 a: 0.15319283 b: -0.0837916 c: 0.6085097 d: 15.647992 loss: 0.61246186\n"
          ]
        },
        {
          "output_type": "display_data",
          "data": {
            "image/png": "[encoded data removed]",
            "text/plain": [
              "<Figure size 432x288 with 1 Axes>"
            ]
          },
          "metadata": {
            "needs_background": "light"
          }
        }
      ]
    },
    {
      "cell_type": "code",
      "metadata": {
        "colab": {
          "base_uri": "https://localhost:8080/",
          "height": 1000
        },
        "id": "DanxWhepfPuf",
        "outputId": "930a7d98-8dc4-4133-8b66-df916a077c7a"
      },
      "source": [
        "import tensorflow as tf\n",
        "import numpy as np\n",
        "\n",
        "X = [-2.4, -2.0, -1.75, -1.5, -1.25, -1.0, -0.75, -0.5, -0.25, 0, 0.25, 0.5, 0.75, 1.0, 1.25, 1.5, 1.75, 2.0, 2.25, 2.5]\n",
        "Y = [12.27, 12.44, 12.87, 13.75, 14.0, 14.5, 15.52, 16.37, 16.78, 16.51, 15.65, 14.74, 14.72, 15.0, 16.94, 17.83, 17.91, 18.14, 18.42, 18.5]\n",
        "\n",
        "model = tf.keras.Sequential([\n",
        "    tf.keras.layers.Dense(units=6, activation='sigmoid', input_shape=(1,)),\n",
        "    tf.keras.layers.Dense(units=1)\n",
        "])\n",
        "\n",
        "model.compile(optimizer=tf.keras.optimizers.SGD(lr=0.06), loss='mse')\n",
        "\n",
        "model.summary()\n",
        "\n",
        "model.fit(X, Y, epochs=50)\n",
        "\n",
        "line_x = np.arange(min(X), max(X), 0.01)\n",
        "line_y = model.predict(line_x)\n",
        "\n",
        "plt.plot(line_x,line_y,'r-')\n",
        "plt.plot(X,Y,'bo')\n",
        "plt.show()"
      ],
      "execution_count": null,
      "outputs": [
        {
          "output_type": "stream",
          "name": "stderr",
          "text": [
            "/usr/local/lib/python3.7/dist-packages/keras/optimizer_v2/optimizer_v2.py:356: UserWarning: The `lr` argument is deprecated, use `learning_rate` instead.\n",
            "  \"The `lr` argument is deprecated, use `learning_rate` instead.\")\n"
          ]
        },
        {
          "output_type": "stream",
          "name": "stdout",
          "text": [
            "Model: \"sequential\"\n",
            "_________________________________________________________________\n",
            "Layer (type)                 Output Shape              Param #   \n",
            "=================================================================\n",
            "dense (Dense)                (None, 6)                 12        \n",
            "_________________________________________________________________\n",
            "dense_1 (Dense)              (None, 1)                 7         \n",
            "=================================================================\n",
            "Total params: 19\n",
            "Trainable params: 19\n",
            "Non-trainable params: 0\n",
            "_________________________________________________________________\n",
            "Epoch 1/50\n",
            "1/1 [==============================] - 0s 459ms/step - loss: 224.1106\n",
            "Epoch 2/50\n",
            "1/1 [==============================] - 0s 5ms/step - loss: 103.1853\n",
            "Epoch 3/50\n",
            "1/1 [==============================] - 0s 4ms/step - loss: 36.2654\n",
            "Epoch 4/50\n",
            "1/1 [==============================] - 0s 4ms/step - loss: 8.6862\n",
            "Epoch 5/50\n",
            "1/1 [==============================] - 0s 4ms/step - loss: 2.0305\n",
            "Epoch 6/50\n",
            "1/1 [==============================] - 0s 4ms/step - loss: 0.9752\n",
            "Epoch 7/50\n",
            "1/1 [==============================] - 0s 5ms/step - loss: 0.8359\n",
            "Epoch 8/50\n",
            "1/1 [==============================] - 0s 5ms/step - loss: 0.8164\n",
            "Epoch 9/50\n",
            "1/1 [==============================] - 0s 4ms/step - loss: 0.8123\n",
            "Epoch 10/50\n",
            "1/1 [==============================] - 0s 4ms/step - loss: 0.8108\n",
            "Epoch 11/50\n",
            "1/1 [==============================] - 0s 4ms/step - loss: 0.8099\n",
            "Epoch 12/50\n",
            "1/1 [==============================] - 0s 5ms/step - loss: 0.8092\n",
            "Epoch 13/50\n",
            "1/1 [==============================] - 0s 7ms/step - loss: 0.8086\n",
            "Epoch 14/50\n",
            "1/1 [==============================] - 0s 5ms/step - loss: 0.8081\n",
            "Epoch 15/50\n",
            "1/1 [==============================] - 0s 5ms/step - loss: 0.8075\n",
            "Epoch 16/50\n",
            "1/1 [==============================] - 0s 5ms/step - loss: 0.8070\n",
            "Epoch 17/50\n",
            "1/1 [==============================] - 0s 3ms/step - loss: 0.8065\n",
            "Epoch 18/50\n",
            "1/1 [==============================] - 0s 4ms/step - loss: 0.8060\n",
            "Epoch 19/50\n",
            "1/1 [==============================] - 0s 7ms/step - loss: 0.8055\n",
            "Epoch 20/50\n",
            "1/1 [==============================] - 0s 4ms/step - loss: 0.8050\n",
            "Epoch 21/50\n",
            "1/1 [==============================] - 0s 5ms/step - loss: 0.8046\n",
            "Epoch 22/50\n",
            "1/1 [==============================] - 0s 9ms/step - loss: 0.8041\n",
            "Epoch 23/50\n",
            "1/1 [==============================] - 0s 5ms/step - loss: 0.8037\n",
            "Epoch 24/50\n",
            "1/1 [==============================] - 0s 4ms/step - loss: 0.8032\n",
            "Epoch 25/50\n",
            "1/1 [==============================] - 0s 4ms/step - loss: 0.8028\n",
            "Epoch 26/50\n",
            "1/1 [==============================] - 0s 4ms/step - loss: 0.8024\n",
            "Epoch 27/50\n",
            "1/1 [==============================] - 0s 5ms/step - loss: 0.8020\n",
            "Epoch 28/50\n",
            "1/1 [==============================] - 0s 4ms/step - loss: 0.8016\n",
            "Epoch 29/50\n",
            "1/1 [==============================] - 0s 4ms/step - loss: 0.8012\n",
            "Epoch 30/50\n",
            "1/1 [==============================] - 0s 5ms/step - loss: 0.8008\n",
            "Epoch 31/50\n",
            "1/1 [==============================] - 0s 7ms/step - loss: 0.8004\n",
            "Epoch 32/50\n",
            "1/1 [==============================] - 0s 8ms/step - loss: 0.8000\n",
            "Epoch 33/50\n",
            "1/1 [==============================] - 0s 8ms/step - loss: 0.7997\n",
            "Epoch 34/50\n",
            "1/1 [==============================] - 0s 12ms/step - loss: 0.7993\n",
            "Epoch 35/50\n",
            "1/1 [==============================] - 0s 6ms/step - loss: 0.7990\n",
            "Epoch 36/50\n",
            "1/1 [==============================] - 0s 12ms/step - loss: 0.7986\n",
            "Epoch 37/50\n",
            "1/1 [==============================] - 0s 6ms/step - loss: 0.7983\n",
            "Epoch 38/50\n",
            "1/1 [==============================] - 0s 7ms/step - loss: 0.7980\n",
            "Epoch 39/50\n",
            "1/1 [==============================] - 0s 19ms/step - loss: 0.7977\n",
            "Epoch 40/50\n",
            "1/1 [==============================] - 0s 11ms/step - loss: 0.7974\n",
            "Epoch 41/50\n",
            "1/1 [==============================] - 0s 5ms/step - loss: 0.7970\n",
            "Epoch 42/50\n",
            "1/1 [==============================] - 0s 7ms/step - loss: 0.7968\n",
            "Epoch 43/50\n",
            "1/1 [==============================] - 0s 10ms/step - loss: 0.7965\n",
            "Epoch 44/50\n",
            "1/1 [==============================] - 0s 7ms/step - loss: 0.7962\n",
            "Epoch 45/50\n",
            "1/1 [==============================] - 0s 6ms/step - loss: 0.7959\n",
            "Epoch 46/50\n",
            "1/1 [==============================] - 0s 5ms/step - loss: 0.7956\n",
            "Epoch 47/50\n",
            "1/1 [==============================] - 0s 7ms/step - loss: 0.7953\n",
            "Epoch 48/50\n",
            "1/1 [==============================] - 0s 5ms/step - loss: 0.7951\n",
            "Epoch 49/50\n",
            "1/1 [==============================] - 0s 6ms/step - loss: 0.7948\n",
            "Epoch 50/50\n",
            "1/1 [==============================] - 0s 7ms/step - loss: 0.7946\n"
          ]
        },
        {
          "output_type": "display_data",
          "data": {
            "image/png": "[encoded data removed]",
            "text/plain": [
              "<Figure size 432x288 with 1 Axes>"
            ]
          },
          "metadata": {
            "needs_background": "light"
          }
        }
      ]
    },
    {
      "cell_type": "code",
      "metadata": {
        "colab": {
          "base_uri": "https://localhost:8080/"
        },
        "id": "PSjPMXhSjttE",
        "outputId": "1bacd3a3-975d-4838-8ff0-1b2689a71b3a"
      },
      "source": [
        "import numpy as np\n",
        "import pandas as pd\n",
        "import tensorflow as tf\n",
        "\n",
        "df1 = tf.random.normal([5,3],0,1)\n",
        "df2 = tf.random.normal([8,3],0,1)\n",
        "\n",
        "print(df1)\n",
        "print(df2)"
      ],
      "execution_count": null,
      "outputs": [
        {
          "output_type": "stream",
          "name": "stdout",
          "text": [
            "tf.Tensor(\n",
            "[[-1.0558172  -1.4655792  -1.1620555 ]\n",
            " [-1.1477597  -1.2822425   1.8035065 ]\n",
            " [ 1.1296353  -0.518979    0.7598526 ]\n",
            " [-0.2007459   1.0088953  -0.1419077 ]\n",
            " [ 0.07771837 -0.82866734  0.970712  ]], shape=(5, 3), dtype=float32)\n",
            "tf.Tensor(\n",
            "[[-0.20747921 -1.1255624   0.9997516 ]\n",
            " [ 0.5385631   1.7841693  -1.2090154 ]\n",
            " [-0.42236537  0.30388594  0.57016176]\n",
            " [-0.252201    0.3666536  -0.57724684]\n",
            " [-0.04575045  0.64771146  1.010313  ]\n",
            " [ 0.51180154  0.42711514 -0.20965934]\n",
            " [ 0.6443682  -1.2672603  -0.9449215 ]\n",
            " [ 0.9744804  -0.63604814 -1.6995379 ]], shape=(8, 3), dtype=float32)\n"
          ]
        }
      ]
    },
    {
      "cell_type": "code",
      "metadata": {
        "colab": {
          "base_uri": "https://localhost:8080/"
        },
        "id": "Z4Mn4-ARlvlI",
        "outputId": "6a20fade-e771-49cb-de3f-7e2eb43c01ec"
      },
      "source": [
        "df3 = pd.DataFrame(np.array(df1), columns=['a', 'b', 'c'])\n",
        "df4 = pd.DataFrame(np.array(df2), columns=['a', 'b', 'c'])\n",
        "\n",
        "print(df3)\n",
        "print(df4)"
      ],
      "execution_count": null,
      "outputs": [
        {
          "output_type": "stream",
          "name": "stdout",
          "text": [
            "          a         b         c\n",
            "0 -1.055817 -1.465579 -1.162055\n",
            "1 -1.147760 -1.282243  1.803506\n",
            "2  1.129635 -0.518979  0.759853\n",
            "3 -0.200746  1.008895 -0.141908\n",
            "4  0.077718 -0.828667  0.970712\n",
            "          a         b         c\n",
            "0 -0.207479 -1.125562  0.999752\n",
            "1  0.538563  1.784169 -1.209015\n",
            "2 -0.422365  0.303886  0.570162\n",
            "3 -0.252201  0.366654 -0.577247\n",
            "4 -0.045750  0.647711  1.010313\n",
            "5  0.511802  0.427115 -0.209659\n",
            "6  0.644368 -1.267260 -0.944921\n",
            "7  0.974480 -0.636048 -1.699538\n"
          ]
        }
      ]
    },
    {
      "cell_type": "code",
      "metadata": {
        "colab": {
          "base_uri": "https://localhost:8080/"
        },
        "id": "Mes4pM5vmAN4",
        "outputId": "960af5b3-b223-4329-b0a6-2ca031c70fc1"
      },
      "source": [
        "df3['d'] = 0\n",
        "df3['e'] = 0\n",
        "df4['d'] = 1\n",
        "df4['e'] = 2\n",
        "\n",
        "print(df3)\n",
        "print(df4)"
      ],
      "execution_count": null,
      "outputs": [
        {
          "output_type": "stream",
          "name": "stdout",
          "text": [
            "          a         b         c  d  e\n",
            "0 -1.055817 -1.465579 -1.162055  0  0\n",
            "1 -1.147760 -1.282243  1.803506  0  0\n",
            "2  1.129635 -0.518979  0.759853  0  0\n",
            "3 -0.200746  1.008895 -0.141908  0  0\n",
            "4  0.077718 -0.828667  0.970712  0  0\n",
            "          a         b         c  d  e\n",
            "0 -0.207479 -1.125562  0.999752  1  2\n",
            "1  0.538563  1.784169 -1.209015  1  2\n",
            "2 -0.422365  0.303886  0.570162  1  2\n",
            "3 -0.252201  0.366654 -0.577247  1  2\n",
            "4 -0.045750  0.647711  1.010313  1  2\n",
            "5  0.511802  0.427115 -0.209659  1  2\n",
            "6  0.644368 -1.267260 -0.944921  1  2\n",
            "7  0.974480 -0.636048 -1.699538  1  2\n"
          ]
        }
      ]
    },
    {
      "cell_type": "code",
      "metadata": {
        "colab": {
          "base_uri": "https://localhost:8080/"
        },
        "id": "Xip8cplbmYDS",
        "outputId": "1ba2fe15-57be-4fdc-fd80-5601a24c7ac2"
      },
      "source": [
        "df = pd.concat([df3, df4])\n",
        "df_shuffle = df.sample(frac=1)\n",
        "print(df_shuffle.head(10))"
      ],
      "execution_count": null,
      "outputs": [
        {
          "output_type": "stream",
          "name": "stdout",
          "text": [
            "          a         b         c  d  e\n",
            "0 -1.055817 -1.465579 -1.162055  0  0\n",
            "1 -1.147760 -1.282243  1.803506  0  0\n",
            "6  0.644368 -1.267260 -0.944921  1  2\n",
            "2  1.129635 -0.518979  0.759853  0  0\n",
            "2 -0.422365  0.303886  0.570162  1  2\n",
            "3 -0.200746  1.008895 -0.141908  0  0\n",
            "4  0.077718 -0.828667  0.970712  0  0\n",
            "7  0.974480 -0.636048 -1.699538  1  2\n",
            "0 -0.207479 -1.125562  0.999752  1  2\n",
            "3 -0.252201  0.366654 -0.577247  1  2\n"
          ]
        }
      ]
    },
    {
      "cell_type": "code",
      "metadata": {
        "colab": {
          "base_uri": "https://localhost:8080/"
        },
        "id": "5AX3dzOJsnEn",
        "outputId": "ed4dc8ee-37d5-4a98-f9f7-c3465bddcbe4"
      },
      "source": [
        "df_np = df_shuffle.to_numpy()\n",
        "print(df_np[:3])"
      ],
      "execution_count": null,
      "outputs": [
        {
          "output_type": "stream",
          "name": "stdout",
          "text": [
            "[[-1.05581725 -1.46557915 -1.16205549  0.          0.        ]\n",
            " [-1.14775968 -1.28224254  1.80350649  0.          0.        ]\n",
            " [ 0.64436817 -1.26726031 -0.94492149  1.          2.        ]]\n"
          ]
        }
      ]
    },
    {
      "cell_type": "code",
      "metadata": {
        "colab": {
          "base_uri": "https://localhost:8080/"
        },
        "id": "36ekgy6woAO-",
        "outputId": "4d5be01c-d011-45f7-edaf-12a04a9e4507"
      },
      "source": [
        "import tensorflow as tf\n",
        "\n",
        "train_idx = int(len(df_np) * 0.6)\n",
        "train_X, train_Y = df_np[:train_idx, :-1], df_np[:train_idx, -1]\n",
        "print(train_Y[:3])\n",
        "train_Y = tf.keras.utils.to_categorical(train_Y, num_classes=3)\n",
        "print(train_X[:3])\n",
        "print(train_Y[:3])"
      ],
      "execution_count": null,
      "outputs": [
        {
          "output_type": "stream",
          "name": "stdout",
          "text": [
            "[0. 0. 2.]\n",
            "[[-1.05581725 -1.46557915 -1.16205549  0.        ]\n",
            " [-1.14775968 -1.28224254  1.80350649  0.        ]\n",
            " [ 0.64436817 -1.26726031 -0.94492149  1.        ]]\n",
            "[[1. 0. 0.]\n",
            " [1. 0. 0.]\n",
            " [0. 0. 1.]]\n"
          ]
        }
      ]
    }
  ]
}