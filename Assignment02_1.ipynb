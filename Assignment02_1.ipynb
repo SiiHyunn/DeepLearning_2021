{
  "nbformat": 4,
  "nbformat_minor": 0,
  "metadata": {
    "colab": {
      "name": "Assignment02_1.ipynb",
      "provenance": [],
      "authorship_tag": "ABX9TyNhIZwMXloAayQyFbTdc5hS",
      "include_colab_link": true
    },
    "kernelspec": {
      "name": "python3",
      "display_name": "Python 3"
    },
    "language_info": {
      "name": "python"
    }
  },
  "cells": [
    {
      "cell_type": "markdown",
      "metadata": {
        "id": "view-in-github",
        "colab_type": "text"
      },
      "source": [
        "<a href=\"https://colab.research.google.com/github/SiiHyunn/DipLearning_2021/blob/main/Assignment02_1.ipynb\" target=\"_parent\"><img src=\"https://colab.research.google.com/assets/colab-badge.svg\" alt=\"Open In Colab\"/></a>"
      ]
    },
    {
      "cell_type": "code",
      "metadata": {
        "colab": {
          "base_uri": "https://localhost:8080/",
          "height": 634
        },
        "id": "rmW8yY7-XgJO",
        "outputId": "e509a7fb-87f7-474a-903d-ec4559d6905b"
      },
      "source": [
        "import pandas as pd\n",
        "import numpy as np\n",
        "import matplotlib.pyplot as plt\n",
        "import tensorflow as tf\n",
        "\n",
        "red = pd.read_csv('http://archive.ics.uci.edu/ml/machine-learning-databases/wine-quality/winequality-red.csv', sep=';')\n",
        "white = pd.read_csv('http://archive.ics.uci.edu/ml/machine-learning-databases/wine-quality/winequality-white.csv', sep=';')\n",
        "red['type'] = 0\n",
        "white['type'] = 1\n",
        "wine = pd.concat([red, white])\n",
        "wine_norm = (wine - wine.min()) / (wine.max() - wine.min())\n",
        "wine_shuffle = wine_norm.sample(frac=1)\n",
        "wine_np = wine_shuffle.to_numpy()\n",
        "print(wine['alcohol'].describe())\n",
        "print(wine['alcohol'].value_counts())\n",
        "\n",
        "plt.hist(wine['alcohol'], bins=8, rwidth=0.8)\n",
        "plt.show()"
      ],
      "execution_count": null,
      "outputs": [
        {
          "output_type": "stream",
          "name": "stdout",
          "text": [
            "count    6497.000000\n",
            "mean       10.491801\n",
            "std         1.192712\n",
            "min         8.000000\n",
            "25%         9.500000\n",
            "50%        10.300000\n",
            "75%        11.300000\n",
            "max        14.900000\n",
            "Name: alcohol, dtype: float64\n",
            "9.500000     367\n",
            "9.400000     332\n",
            "9.200000     271\n",
            "10.000000    229\n",
            "10.500000    227\n",
            "            ... \n",
            "9.233333       1\n",
            "12.333333      1\n",
            "13.133333      1\n",
            "11.466667      1\n",
            "11.550000      1\n",
            "Name: alcohol, Length: 111, dtype: int64\n"
          ]
        },
        {
          "output_type": "display_data",
          "data": {
            "image/png": "[encoded data removed]",
            "text/plain": [
              "<Figure size 432x288 with 1 Axes>"
            ]
          },
          "metadata": {
            "needs_background": "light"
          }
        }
      ]
    },
    {
      "cell_type": "code",
      "metadata": {
        "colab": {
          "base_uri": "https://localhost:8080/"
        },
        "id": "K9AVn00eZaDm",
        "outputId": "8874846d-6409-4185-e815-f96d6c126805"
      },
      "source": [
        "wine.loc[wine['alcohol'] <= 9.5, 'new_alcohol'] = 0\n",
        "wine.loc[(wine['alcohol'] >9.5) & (wine['alcohol'] <=11), 'new_alcohol'] = 1\n",
        "wine.loc[wine['alcohol'] > 11, 'new_alcohol'] = 2\n",
        "\n",
        "print(wine['new_alcohol'].describe())\n",
        "print(wine['new_alcohol'].value_counts())\n",
        "\n",
        "del wine['alcohol']"
      ],
      "execution_count": null,
      "outputs": [
        {
          "output_type": "stream",
          "name": "stdout",
          "text": [
            "count    6497.000000\n",
            "mean        1.014930\n",
            "std         0.768807\n",
            "min         0.000000\n",
            "25%         0.000000\n",
            "50%         1.000000\n",
            "75%         2.000000\n",
            "max         2.000000\n",
            "Name: new_alcohol, dtype: float64\n",
            "1.0    2656\n",
            "2.0    1969\n",
            "0.0    1872\n",
            "Name: new_alcohol, dtype: int64\n"
          ]
        }
      ]
    },
    {
      "cell_type": "code",
      "metadata": {
        "colab": {
          "base_uri": "https://localhost:8080/"
        },
        "id": "V7ZOTAeckrpX",
        "outputId": "c0705121-1b28-4a65-b27d-3b7813799863"
      },
      "source": [
        "wine_backup = wine.copy()\n",
        "wine_norm = (wine - wine.min()) / (wine.max() - wine.min())\n",
        "wine_norm['new_alcohol'] = wine_backup['new_alcohol']\n",
        "wine_shuffle = wine_norm.sample(frac=1)\n",
        "wine_np = wine_shuffle.to_numpy()\n",
        "\n",
        "train_idx = int(len(wine_np) * 0.8)\n",
        "train_X, train_Y = wine_np[:train_idx, :-1], wine_np[:train_idx, -1]\n",
        "test_X, test_Y = wine_np[train_idx:, :-1], wine_np[train_idx:, -1]\n",
        "train_Y = tf.keras.utils.to_categorical(train_Y, num_classes=3)\n",
        "test_Y = tf.keras.utils.to_categorical(test_Y, num_classes=3)\n",
        "\n",
        "model = tf.keras.Sequential([\n",
        "    tf.keras.layers.Dense(units=48, activation='relu', input_shape=(12,)),\n",
        "    tf.keras.layers.Dense(units=24, activation='relu'),\n",
        "    tf.keras.layers.Dense(units=12, activation='relu'),\n",
        "    tf.keras.layers.Dense(units=3, activation='softmax')\n",
        "])\n",
        "\n",
        "model.compile(optimizer=tf.keras.optimizers.Adam(lr=0.003), loss='categorical_crossentropy', metrics=['accuracy'])\n",
        "\n",
        "history = model.fit(train_X, train_Y, epochs=20, batch_size=32, validation_split=0.25)"
      ],
      "execution_count": null,
      "outputs": [
        {
          "output_type": "stream",
          "name": "stderr",
          "text": [
            "/usr/local/lib/python3.7/dist-packages/keras/optimizer_v2/optimizer_v2.py:356: UserWarning: The `lr` argument is deprecated, use `learning_rate` instead.\n",
            "  \"The `lr` argument is deprecated, use `learning_rate` instead.\")\n"
          ]
        },
        {
          "output_type": "stream",
          "name": "stdout",
          "text": [
            "Epoch 1/20\n",
            "122/122 [==============================] - 1s 4ms/step - loss: 0.9360 - accuracy: 0.5248 - val_loss: 0.7829 - val_accuracy: 0.6308\n",
            "Epoch 2/20\n",
            "122/122 [==============================] - 0s 2ms/step - loss: 0.7451 - accuracy: 0.6577 - val_loss: 0.6981 - val_accuracy: 0.6631\n",
            "Epoch 3/20\n",
            "122/122 [==============================] - 0s 2ms/step - loss: 0.6661 - accuracy: 0.6975 - val_loss: 0.6732 - val_accuracy: 0.6762\n",
            "Epoch 4/20\n",
            "122/122 [==============================] - 0s 3ms/step - loss: 0.6076 - accuracy: 0.7218 - val_loss: 0.5929 - val_accuracy: 0.7108\n",
            "Epoch 5/20\n",
            "122/122 [==============================] - 0s 2ms/step - loss: 0.5522 - accuracy: 0.7511 - val_loss: 0.5743 - val_accuracy: 0.7377\n",
            "Epoch 6/20\n",
            "122/122 [==============================] - 0s 2ms/step - loss: 0.5061 - accuracy: 0.7793 - val_loss: 0.4945 - val_accuracy: 0.7808\n",
            "Epoch 7/20\n",
            "122/122 [==============================] - 0s 2ms/step - loss: 0.4744 - accuracy: 0.7909 - val_loss: 0.4564 - val_accuracy: 0.7985\n",
            "Epoch 8/20\n",
            "122/122 [==============================] - 0s 2ms/step - loss: 0.4505 - accuracy: 0.8047 - val_loss: 0.4811 - val_accuracy: 0.7792\n",
            "Epoch 9/20\n",
            "122/122 [==============================] - 0s 2ms/step - loss: 0.4464 - accuracy: 0.8057 - val_loss: 0.7674 - val_accuracy: 0.6408\n",
            "Epoch 10/20\n",
            "122/122 [==============================] - 0s 2ms/step - loss: 0.4395 - accuracy: 0.8050 - val_loss: 0.4314 - val_accuracy: 0.8123\n",
            "Epoch 11/20\n",
            "122/122 [==============================] - 0s 2ms/step - loss: 0.4333 - accuracy: 0.8124 - val_loss: 0.4360 - val_accuracy: 0.7946\n",
            "Epoch 12/20\n",
            "122/122 [==============================] - 0s 2ms/step - loss: 0.4175 - accuracy: 0.8191 - val_loss: 0.4440 - val_accuracy: 0.8054\n",
            "Epoch 13/20\n",
            "122/122 [==============================] - 0s 2ms/step - loss: 0.4353 - accuracy: 0.8034 - val_loss: 0.4337 - val_accuracy: 0.8062\n",
            "Epoch 14/20\n",
            "122/122 [==============================] - 0s 2ms/step - loss: 0.4151 - accuracy: 0.8163 - val_loss: 0.4280 - val_accuracy: 0.8023\n",
            "Epoch 15/20\n",
            "122/122 [==============================] - 0s 2ms/step - loss: 0.4128 - accuracy: 0.8191 - val_loss: 0.4238 - val_accuracy: 0.8123\n",
            "Epoch 16/20\n",
            "122/122 [==============================] - 0s 2ms/step - loss: 0.4043 - accuracy: 0.8245 - val_loss: 0.4220 - val_accuracy: 0.8162\n",
            "Epoch 17/20\n",
            "122/122 [==============================] - 0s 2ms/step - loss: 0.4197 - accuracy: 0.8186 - val_loss: 0.5921 - val_accuracy: 0.7277\n",
            "Epoch 18/20\n",
            "122/122 [==============================] - 0s 2ms/step - loss: 0.4043 - accuracy: 0.8235 - val_loss: 0.4812 - val_accuracy: 0.7838\n",
            "Epoch 19/20\n",
            "122/122 [==============================] - 0s 3ms/step - loss: 0.3940 - accuracy: 0.8283 - val_loss: 0.4122 - val_accuracy: 0.8177\n",
            "Epoch 20/20\n",
            "122/122 [==============================] - 0s 2ms/step - loss: 0.3937 - accuracy: 0.8296 - val_loss: 0.4136 - val_accuracy: 0.8100\n"
          ]
        }
      ]
    },
    {
      "cell_type": "code",
      "metadata": {
        "colab": {
          "base_uri": "https://localhost:8080/",
          "height": 318
        },
        "id": "uToNS2oylGih",
        "outputId": "026ea927-df2a-4d73-bea0-0c6251d8bfeb"
      },
      "source": [
        "import matplotlib.pyplot as plt\n",
        "plt.figure(figsize=(12, 4))\n",
        "\n",
        "plt.subplot(1, 2, 1)\n",
        "plt.plot(history.history['loss'], 'b-', label='loss')\n",
        "plt.plot(history.history['val_loss'], 'r--', label='val_loss')\n",
        "plt.xlabel('Epoch')\n",
        "plt.legend()\n",
        "\n",
        "plt.subplot(1, 2, 2)\n",
        "plt.plot(history.history['accuracy'], 'g-', label='accuracy')\n",
        "plt.plot(history.history['val_accuracy'], 'k--', label='val_accuracy')\n",
        "plt.xlabel('Epoch')\n",
        "plt.ylim(0.5, 0.7)\n",
        "plt.legend()\n",
        "\n",
        "plt.show()\n",
        "\n",
        "model.evaluate(test_X, test_Y)"
      ],
      "execution_count": null,
      "outputs": [
        {
          "output_type": "display_data",
          "data": {
            "image/png": "[encoded data removed]",
            "text/plain": [
              "<Figure size 864x288 with 2 Axes>"
            ]
          },
          "metadata": {
            "needs_background": "light"
          }
        },
        {
          "output_type": "stream",
          "name": "stdout",
          "text": [
            "41/41 [==============================] - 0s 1ms/step - loss: 0.4448 - accuracy: 0.8077\n"
          ]
        },
        {
          "output_type": "execute_result",
          "data": {
            "text/plain": [
              "[0.4447724223136902, 0.807692289352417]"
            ]
          },
          "metadata": {},
          "execution_count": 82
        }
      ]
    }
  ]
}