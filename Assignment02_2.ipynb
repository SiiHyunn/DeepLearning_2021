{
  "nbformat": 4,
  "nbformat_minor": 0,
  "metadata": {
    "colab": {
      "name": "Assignment02_2.ipynb",
      "provenance": [],
      "collapsed_sections": [],
      "authorship_tag": "ABX9TyNWC9WUNvb7+dAqoTHM/L5H",
      "include_colab_link": true
    },
    "kernelspec": {
      "name": "python3",
      "display_name": "Python 3"
    },
    "language_info": {
      "name": "python"
    },
    "accelerator": "GPU"
  },
  "cells": [
    {
      "cell_type": "markdown",
      "metadata": {
        "id": "view-in-github",
        "colab_type": "text"
      },
      "source": [
        "<a href=\"https://colab.research.google.com/github/SiiHyunn/DipLearning_2021/blob/main/Assignment02_2.ipynb\" target=\"_parent\"><img src=\"https://colab.research.google.com/assets/colab-badge.svg\" alt=\"Open In Colab\"/></a>"
      ]
    },
    {
      "cell_type": "code",
      "metadata": {
        "colab": {
          "base_uri": "https://localhost:8080/",
          "height": 511
        },
        "id": "K9P5U-NCliv5",
        "outputId": "7c468f3d-8362-4eb1-de93-90eca269398e"
      },
      "source": [
        "import pandas as pd\n",
        "import numpy as np\n",
        "import matplotlib.pyplot as plt\n",
        "import tensorflow as tf\n",
        "\n",
        "red = pd.read_csv('http://archive.ics.uci.edu/ml/machine-learning-databases/wine-quality/winequality-red.csv', sep=';')\n",
        "white = pd.read_csv('http://archive.ics.uci.edu/ml/machine-learning-databases/wine-quality/winequality-white.csv', sep=';')\n",
        "red['type'] = 0\n",
        "white['type'] = 1\n",
        "wine = pd.concat([red, white])\n",
        "wine_norm = (wine - wine.min()) / (wine.max() - wine.min())\n",
        "wine_shuffle = wine_norm.sample(frac=1)\n",
        "wine_np = wine_shuffle.to_numpy()\n",
        "\n",
        "wine.loc[wine['quality'] <= 4, 'new_quality'] = 0\n",
        "wine.loc[(wine['quality'] == 5) | (wine['quality'] == 6), 'new_quality'] = 1\n",
        "wine.loc[(wine['quality'] == 7) | (wine['quality'] == 8), 'new_quality'] = 2\n",
        "wine.loc[wine['quality'] == 9, 'new_quality'] = 3\n",
        "\n",
        "print(wine['new_quality'].describe())\n",
        "print(wine['new_quality'].value_counts())\n",
        "\n",
        "plt.hist(wine['new_quality'], bins=4, rwidth=0.8)\n",
        "plt.show()"
      ],
      "execution_count": null,
      "outputs": [
        {
          "output_type": "stream",
          "name": "stdout",
          "text": [
            "count    6497.000000\n",
            "mean        1.159458\n",
            "std         0.459707\n",
            "min         0.000000\n",
            "25%         1.000000\n",
            "50%         1.000000\n",
            "75%         1.000000\n",
            "max         3.000000\n",
            "Name: new_quality, dtype: float64\n",
            "1.0    4974\n",
            "2.0    1272\n",
            "0.0     246\n",
            "3.0       5\n",
            "Name: new_quality, dtype: int64\n"
          ]
        },
        {
          "output_type": "display_data",
          "data": {
            "image/png": "[encoded data removed]",
            "text/plain": [
              "<Figure size 432x288 with 1 Axes>"
            ]
          },
          "metadata": {
            "needs_background": "light"
          }
        }
      ]
    },
    {
      "cell_type": "code",
      "metadata": {
        "id": "Rmv1ioXmng9E"
      },
      "source": [
        "del wine['quality']\n",
        "wine_backup = wine.copy()\n",
        "wine_norm = (wine - wine.min()) / (wine.max() - wine.min())\n",
        "wine_norm['new_quality'] = wine_backup['new_quality']\n",
        "wine_shuffle = wine_norm.sample(frac=1)\n",
        "wine_np = wine_shuffle.to_numpy()\n",
        "\n",
        "train_idx = int(len(wine_np) * 0.8)\n",
        "train_X, test_X = wine_np[:train_idx, :-1], wine_np[train_idx:, :-1]\n",
        "\n",
        "Y = tf.keras.utils.to_categorical(wine_np[:,-1], num_classes=4)\n",
        "train_Y, test_Y = Y[:train_idx], Y[train_idx:]"
      ],
      "execution_count": null,
      "outputs": []
    },
    {
      "cell_type": "code",
      "metadata": {
        "colab": {
          "base_uri": "https://localhost:8080/"
        },
        "id": "XCN-yitBnqHo",
        "outputId": "c896d7a9-fe14-4666-a8e9-3d5a190d2a25"
      },
      "source": [
        "model = tf.keras.Sequential([\n",
        "    tf.keras.layers.Dense(units=48, activation='relu', input_shape=(12,)),\n",
        "    tf.keras.layers.Dense(units=24, activation='relu'),\n",
        "    tf.keras.layers.Dense(units=12, activation='relu'),\n",
        "    tf.keras.layers.Dense(units=4, activation='softmax')\n",
        "])\n",
        "\n",
        "model.compile(optimizer=tf.keras.optimizers.Adam(lr=0.001), loss='categorical_crossentropy', metrics=['accuracy'])\n",
        "\n",
        "history = model.fit(train_X, train_Y, epochs=30, batch_size=200, validation_split=0.25)"
      ],
      "execution_count": null,
      "outputs": [
        {
          "output_type": "stream",
          "name": "stderr",
          "text": [
            "/usr/local/lib/python3.7/dist-packages/keras/optimizer_v2/optimizer_v2.py:356: UserWarning: The `lr` argument is deprecated, use `learning_rate` instead.\n",
            "  \"The `lr` argument is deprecated, use `learning_rate` instead.\")\n"
          ]
        },
        {
          "output_type": "stream",
          "name": "stdout",
          "text": [
            "Epoch 1/30\n",
            "20/20 [==============================] - 3s 15ms/step - loss: 1.3342 - accuracy: 0.5266 - val_loss: 1.2293 - val_accuracy: 0.7454\n",
            "Epoch 2/30\n",
            "20/20 [==============================] - 0s 5ms/step - loss: 1.1182 - accuracy: 0.7693 - val_loss: 0.9825 - val_accuracy: 0.7454\n",
            "Epoch 3/30\n",
            "20/20 [==============================] - 0s 5ms/step - loss: 0.8417 - accuracy: 0.7693 - val_loss: 0.7489 - val_accuracy: 0.7454\n",
            "Epoch 4/30\n",
            "20/20 [==============================] - 0s 6ms/step - loss: 0.6715 - accuracy: 0.7693 - val_loss: 0.6850 - val_accuracy: 0.7454\n",
            "Epoch 5/30\n",
            "20/20 [==============================] - 0s 6ms/step - loss: 0.6366 - accuracy: 0.7693 - val_loss: 0.6703 - val_accuracy: 0.7454\n",
            "Epoch 6/30\n",
            "20/20 [==============================] - 0s 6ms/step - loss: 0.6218 - accuracy: 0.7693 - val_loss: 0.6549 - val_accuracy: 0.7454\n",
            "Epoch 7/30\n",
            "20/20 [==============================] - 0s 5ms/step - loss: 0.6065 - accuracy: 0.7693 - val_loss: 0.6381 - val_accuracy: 0.7454\n",
            "Epoch 8/30\n",
            "20/20 [==============================] - 0s 6ms/step - loss: 0.5928 - accuracy: 0.7693 - val_loss: 0.6260 - val_accuracy: 0.7446\n",
            "Epoch 9/30\n",
            "20/20 [==============================] - 0s 5ms/step - loss: 0.5817 - accuracy: 0.7719 - val_loss: 0.6170 - val_accuracy: 0.7477\n",
            "Epoch 10/30\n",
            "20/20 [==============================] - 0s 5ms/step - loss: 0.5726 - accuracy: 0.7739 - val_loss: 0.6073 - val_accuracy: 0.7538\n",
            "Epoch 11/30\n",
            "20/20 [==============================] - 0s 6ms/step - loss: 0.5657 - accuracy: 0.7811 - val_loss: 0.6032 - val_accuracy: 0.7546\n",
            "Epoch 12/30\n",
            "20/20 [==============================] - 0s 5ms/step - loss: 0.5591 - accuracy: 0.7821 - val_loss: 0.5918 - val_accuracy: 0.7585\n",
            "Epoch 13/30\n",
            "20/20 [==============================] - 0s 6ms/step - loss: 0.5542 - accuracy: 0.7824 - val_loss: 0.5921 - val_accuracy: 0.7569\n",
            "Epoch 14/30\n",
            "20/20 [==============================] - 0s 5ms/step - loss: 0.5503 - accuracy: 0.7834 - val_loss: 0.5811 - val_accuracy: 0.7646\n",
            "Epoch 15/30\n",
            "20/20 [==============================] - 0s 5ms/step - loss: 0.5493 - accuracy: 0.7860 - val_loss: 0.5769 - val_accuracy: 0.7677\n",
            "Epoch 16/30\n",
            "20/20 [==============================] - 0s 5ms/step - loss: 0.5439 - accuracy: 0.7839 - val_loss: 0.5735 - val_accuracy: 0.7677\n",
            "Epoch 17/30\n",
            "20/20 [==============================] - 0s 5ms/step - loss: 0.5418 - accuracy: 0.7842 - val_loss: 0.5736 - val_accuracy: 0.7638\n",
            "Epoch 18/30\n",
            "20/20 [==============================] - 0s 5ms/step - loss: 0.5389 - accuracy: 0.7868 - val_loss: 0.5684 - val_accuracy: 0.7669\n",
            "Epoch 19/30\n",
            "20/20 [==============================] - 0s 5ms/step - loss: 0.5361 - accuracy: 0.7850 - val_loss: 0.5661 - val_accuracy: 0.7662\n",
            "Epoch 20/30\n",
            "20/20 [==============================] - 0s 5ms/step - loss: 0.5354 - accuracy: 0.7844 - val_loss: 0.5646 - val_accuracy: 0.7662\n",
            "Epoch 21/30\n",
            "20/20 [==============================] - 0s 5ms/step - loss: 0.5323 - accuracy: 0.7839 - val_loss: 0.5638 - val_accuracy: 0.7669\n",
            "Epoch 22/30\n",
            "20/20 [==============================] - 0s 5ms/step - loss: 0.5306 - accuracy: 0.7873 - val_loss: 0.5610 - val_accuracy: 0.7654\n",
            "Epoch 23/30\n",
            "20/20 [==============================] - 0s 5ms/step - loss: 0.5306 - accuracy: 0.7875 - val_loss: 0.5593 - val_accuracy: 0.7631\n",
            "Epoch 24/30\n",
            "20/20 [==============================] - 0s 5ms/step - loss: 0.5277 - accuracy: 0.7868 - val_loss: 0.5583 - val_accuracy: 0.7638\n",
            "Epoch 25/30\n",
            "20/20 [==============================] - 0s 6ms/step - loss: 0.5266 - accuracy: 0.7886 - val_loss: 0.5568 - val_accuracy: 0.7646\n",
            "Epoch 26/30\n",
            "20/20 [==============================] - 0s 5ms/step - loss: 0.5256 - accuracy: 0.7852 - val_loss: 0.5639 - val_accuracy: 0.7715\n",
            "Epoch 27/30\n",
            "20/20 [==============================] - 0s 5ms/step - loss: 0.5243 - accuracy: 0.7909 - val_loss: 0.5584 - val_accuracy: 0.7708\n",
            "Epoch 28/30\n",
            "20/20 [==============================] - 0s 6ms/step - loss: 0.5244 - accuracy: 0.7904 - val_loss: 0.5583 - val_accuracy: 0.7708\n",
            "Epoch 29/30\n",
            "20/20 [==============================] - 0s 5ms/step - loss: 0.5222 - accuracy: 0.7875 - val_loss: 0.5521 - val_accuracy: 0.7662\n",
            "Epoch 30/30\n",
            "20/20 [==============================] - 0s 5ms/step - loss: 0.5203 - accuracy: 0.7904 - val_loss: 0.5501 - val_accuracy: 0.7623\n"
          ]
        }
      ]
    },
    {
      "cell_type": "code",
      "metadata": {
        "colab": {
          "base_uri": "https://localhost:8080/",
          "height": 318
        },
        "id": "zTPy6KGin1By",
        "outputId": "952ea357-22bd-4d4b-8c90-2887b78b6312"
      },
      "source": [
        "import matplotlib.pyplot as plt\n",
        "plt.figure(figsize=(12, 4))\n",
        "\n",
        "plt.subplot(1, 2, 1)\n",
        "plt.plot(history.history['loss'], 'b-', label='loss')\n",
        "plt.plot(history.history['val_loss'], 'r--', label='val_loss')\n",
        "plt.xlabel('Epoch')\n",
        "plt.legend()\n",
        "\n",
        "plt.subplot(1, 2, 2)\n",
        "plt.plot(history.history['accuracy'], 'g-', label='accuracy')\n",
        "plt.plot(history.history['val_accuracy'], 'k--', label='val_accuracy')\n",
        "plt.xlabel('Epoch')\n",
        "plt.ylim(0.5, 1)\n",
        "plt.legend()\n",
        "\n",
        "plt.show()\n",
        "\n",
        "model.evaluate(test_X, test_Y)"
      ],
      "execution_count": null,
      "outputs": [
        {
          "output_type": "display_data",
          "data": {
            "image/png": "[encoded data removed]",
            "text/plain": [
              "<Figure size 864x288 with 2 Axes>"
            ]
          },
          "metadata": {
            "needs_background": "light"
          }
        },
        {
          "output_type": "stream",
          "name": "stdout",
          "text": [
            "41/41 [==============================] - 0s 3ms/step - loss: 0.5549 - accuracy: 0.7754\n"
          ]
        },
        {
          "output_type": "execute_result",
          "data": {
            "text/plain": [
              "[0.5549436807632446, 0.7753846049308777]"
            ]
          },
          "metadata": {},
          "execution_count": 4
        }
      ]
    }
  ]
}